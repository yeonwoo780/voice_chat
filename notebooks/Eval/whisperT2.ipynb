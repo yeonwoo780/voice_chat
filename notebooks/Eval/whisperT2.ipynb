{
 "cells": [
  {
   "cell_type": "markdown",
   "metadata": {},
   "source": [
    "### 분석 및 평가용"
   ]
  },
  {
   "cell_type": "code",
   "execution_count": 1,
   "metadata": {},
   "outputs": [
    {
     "data": {
      "text/plain": [
       "'/home/mathai/voice_chat'"
      ]
     },
     "execution_count": 1,
     "metadata": {},
     "output_type": "execute_result"
    }
   ],
   "source": [
    "import os\n",
    "os.chdir(\"../../\")\n",
    "os.getcwd()"
   ]
  },
  {
   "cell_type": "code",
   "execution_count": 2,
   "metadata": {},
   "outputs": [],
   "source": [
    "import warnings\n",
    "warnings.filterwarnings('ignore')"
   ]
  },
  {
   "cell_type": "code",
   "execution_count": 3,
   "metadata": {},
   "outputs": [
    {
     "name": "stderr",
     "output_type": "stream",
     "text": [
      "Device set to use cuda:0\n",
      "You have passed language=korean, but also have set `forced_decoder_ids` to [[1, None], [2, 50360]] which creates a conflict. `forced_decoder_ids` will be ignored in favor of language=korean.\n",
      "The attention mask is not set and cannot be inferred from input because pad token is same as eos token. As a consequence, you may observe unexpected behavior. Please pass your input's `attention_mask` to obtain reliable results.\n",
      "Whisper did not predict an ending timestamp, which can happen if audio is cut off in the middle of a word. Also make sure WhisperTimeStampLogitsProcessor was used during generation.\n"
     ]
    }
   ],
   "source": [
    "import torch\n",
    "from transformers import AutoModelForSpeechSeq2Seq, AutoProcessor, pipeline\n",
    "\n",
    "device = \"cuda:0\" if torch.cuda.is_available() else \"cpu\"\n",
    "torch_dtype = torch.float16 if torch.cuda.is_available() else torch.float32\n",
    "\n",
    "model_id = \"openai/whisper-large-v3\"\n",
    "\n",
    "model = AutoModelForSpeechSeq2Seq.from_pretrained(\n",
    "    model_id, torch_dtype=torch_dtype, low_cpu_mem_usage=True, use_safetensors=True\n",
    ")\n",
    "model.to(device)\n",
    "\n",
    "processor = AutoProcessor.from_pretrained(model_id)\n",
    "\n",
    "pipe = pipeline(\n",
    "    \"automatic-speech-recognition\",\n",
    "    model=model,\n",
    "    tokenizer=processor.tokenizer,\n",
    "    feature_extractor=processor.feature_extractor,\n",
    "    max_new_tokens=128,\n",
    "    chunk_length_s=30,\n",
    "    batch_size=16,\n",
    "    return_timestamps=True,\n",
    "    torch_dtype=torch_dtype,\n",
    "    device=device,\n",
    ")\n",
    "\n",
    "target_audio_data = pipe(\"./data/Eval/Cereal.mp3\", generate_kwargs={\"language\": \"korean\"})"
   ]
  },
  {
   "cell_type": "code",
   "execution_count": 4,
   "metadata": {},
   "outputs": [
    {
     "name": "stdout",
     "output_type": "stream",
     "text": [
      "Fancy\n",
      "Baby 난 널 볼 때마다 믿기지가 않아 너도 즐기고 있잖아\n",
      "모두 다 고개가 돌아가 돌아가\n",
      "어디서든 너가 보는 spotlight\n",
      "질투 나서 안 돼 계속 다가갈래\n",
      "난 내 몸에 닿아있는 wifi\n",
      "너한테 연결하고 싶은 밤\n",
      "So what's your serial number?\n",
      "Such a limited edition\n",
      "I really want to be my girl\n",
      "Yeah yeah\n",
      "Serial\n",
      "너와 뜨거운 한 아침을 맞이해\n",
      "Serial\n",
      "호랑이 기운 쏟아나 나 지금\n",
      "Serial\n",
      "그래 널 안아볼 때마다 Say oh my god\n",
      "Serial\n",
      "She's real She's real\n",
      "She's real\n",
      "She's real\n",
      "She's real\n",
      "She's real\n",
      "She's real\n",
      "She's real\n",
      "She's real\n",
      "She's real\n",
      "Yo, Siaco\n",
      "둥근 해가 떴습니다 꼭 기어\n",
      "넌 실눈 뜨고 내 아랫배를 꼬집어\n",
      "치즈처럼 누러져서 넣기 적\n",
      "같이 물러친 대신에 질렸게 먹는 브런치\n",
      "일 중독해 올배미족이\n",
      "저정을 못 넘기고 칼퇴근해\n",
      "고양이과 학질도 잠시\n",
      "벌렁 누워들어내는 베이 Sweet spot on love with me에 천천히 입안에 감도는 달짝지근한 표현들 어설픈 뷰는 때려칠게 실수 완벽함에 대한 예의가 아니거든\n",
      "So would you see me on a moon? Let me know your birthday\n",
      "오늘부터 온 밥은 잊고 걸러\n",
      "Say real 너와 뜨거운 한 아침을 맞이해\n",
      "Say real 호랑이 기운 쏟아나 지금\n",
      "Say real 그래 널 안아볼 때마다\n",
      "Say oh my god\n",
      "Say real She's real\n",
      "She's real She's real\n",
      "She's real She's real\n",
      "Say real Say real Serial Serial Serial Serial\n",
      "우유빛 피부가 눈 깜짝할 새 내 맘을 눅눅하게 해\n",
      "사르르 녹아줘 나와 비슷한 색으로 물들여지게\n",
      "Skrr Skrr 한털도 날림없이 받아줘\n",
      "Skrr Skrr Skrr\n",
      "새가 너와 나 너와 나\n",
      "Say real\n",
      "너와 뜨거운 한 아침을 맞이해\n",
      "Say real\n",
      "호랑이 기운 쏟아난 아직은\n",
      "Say real\n",
      "그래 널 안아볼 때마다 Say oh my god\n",
      "She's real\n",
      "She's real\n",
      "She's real\n",
      "She's real She's real\n",
      "Say real 매스\n"
     ]
    }
   ],
   "source": [
    "print(\"\\n\".join([audio_chunk['text'].strip() for audio_chunk in target_audio_data['chunks']]))"
   ]
  },
  {
   "cell_type": "code",
   "execution_count": null,
   "metadata": {},
   "outputs": [],
   "source": []
  }
 ],
 "metadata": {
  "kernelspec": {
   "display_name": "audio_chat",
   "language": "python",
   "name": "python3"
  },
  "language_info": {
   "codemirror_mode": {
    "name": "ipython",
    "version": 3
   },
   "file_extension": ".py",
   "mimetype": "text/x-python",
   "name": "python",
   "nbconvert_exporter": "python",
   "pygments_lexer": "ipython3",
   "version": "3.10.16"
  }
 },
 "nbformat": 4,
 "nbformat_minor": 2
}
