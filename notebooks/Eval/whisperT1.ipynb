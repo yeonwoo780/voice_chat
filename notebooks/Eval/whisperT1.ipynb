{
 "cells": [
  {
   "cell_type": "markdown",
   "metadata": {},
   "source": [
    "### 분석 및 평가용"
   ]
  },
  {
   "cell_type": "code",
   "execution_count": 2,
   "metadata": {},
   "outputs": [
    {
     "data": {
      "text/plain": [
       "'/home/mathai/voice_chat'"
      ]
     },
     "execution_count": 2,
     "metadata": {},
     "output_type": "execute_result"
    }
   ],
   "source": [
    "import os\n",
    "os.chdir(\"../../\")\n",
    "os.getcwd()"
   ]
  },
  {
   "cell_type": "code",
   "execution_count": 3,
   "metadata": {},
   "outputs": [],
   "source": [
    "import warnings\n",
    "warnings.filterwarnings('ignore')"
   ]
  },
  {
   "cell_type": "code",
   "execution_count": 4,
   "metadata": {},
   "outputs": [
    {
     "name": "stderr",
     "output_type": "stream",
     "text": [
      "Device set to use cuda:0\n",
      "You have passed language=korean, but also have set `forced_decoder_ids` to [[1, None], [2, 50360]] which creates a conflict. `forced_decoder_ids` will be ignored in favor of language=korean.\n",
      "The attention mask is not set and cannot be inferred from input because pad token is same as eos token. As a consequence, you may observe unexpected behavior. Please pass your input's `attention_mask` to obtain reliable results.\n"
     ]
    },
    {
     "name": "stdout",
     "output_type": "stream",
     "text": [
      "커피를 너무 많이 마셨나봐요\n",
      "심장이 막 두근대고 잠은 잘 수가 없어요\n",
      "한참 뒤에 빛빛이 내리면\n",
      "난 다시 잠들 순 없겠죠\n",
      "지나간 새벽을 다 새면\n",
      "다시 내 곁에 잠들겠죠\n",
      "너의 품에 잠든 난 마치\n",
      "천사가 된 것만 같아요\n",
      "난 그대 품에\n",
      "이 빛을 쏟아내리고\n",
      "은하수를 만들어 어디든 날아가게 할 거야\n",
      "Cuz I'm a pilot anywhere Cuz I'm a pilot anywhere\n",
      "Lighting star, shooting star, he's shaking my galaxy Cuz I'm a pilot anyway\n",
      "Cuz I'm your pilot 내 곁에\n",
      "저 별을 따 내게만\n",
      "Shake it my galaxy\n",
      "Like a star 내리는 빛처럼\n",
      "반짝이는 널 가지고 싶어\n",
      "Give my mind\n",
      "엄지와 검지만 해도 내 마음을 너무 잘 표현해\n",
      "붙어 안는 나니까 마냥 떨리기만 한 게 아니야\n",
      "준비가 되면서 울리는 공기성처럼\n",
      "네 주위를 마구 맴돌려 해\n",
      "더 가까워진다면 네가 가져줄래 이 떨림을\n",
      "어제는 내가 기분이 참 좋았어\n",
      "지나간 행성에다가\n",
      "그때 이름 새겨 놓았죠\n",
      "한참 뒤에 별빛이 내리면\n",
      "그 별이 가장 붉게 빛나요\n",
      "지나간 새벽을 다 세면\n",
      "다시 내 곁에 잠들겠죠\n",
      "햇빛 아래 잠든 넌 마치\n",
      "온 우주 가진 것만 같아\n",
      "난 그대 품에\n",
      "빛빛을 쏟아내리고\n",
      "은하수를 문질러 어디든 날아가게 할 거야\n",
      "Cuz I'm a pilot anywhere Cuz I'm a pilot anywhere\n",
      "Light and star, shooting star 지게 내 갤럭시\n",
      "Cuz I'm a pilot anywhere Cuz I'm your pilot 내 곁에\n",
      "저 별을 따 내게만\n",
      "Take care of my galaxy\n",
      "Cause I'm a pilot anywhere\n",
      "Cause I'm a pilot anywhere\n",
      "Blood is dying, shit is dying\n",
      "Take care of my galaxy\n",
      "Cause I'm a Cuz I'm your pilot, I'm your pilot\n",
      "Let us die, shooting star, taking a galaxy Lie Lie Lie Lie Lie Lie\n"
     ]
    }
   ],
   "source": [
    "import torch\n",
    "from transformers import AutoModelForSpeechSeq2Seq, AutoProcessor, pipeline\n",
    "\n",
    "device = \"cuda:0\" if torch.cuda.is_available() else \"cpu\"\n",
    "torch_dtype = torch.float16 if torch.cuda.is_available() else torch.float32\n",
    "\n",
    "model_id = \"openai/whisper-large-v3\"\n",
    "\n",
    "model = AutoModelForSpeechSeq2Seq.from_pretrained(\n",
    "    model_id, torch_dtype=torch_dtype, low_cpu_mem_usage=True, use_safetensors=True\n",
    ")\n",
    "model.to(device)\n",
    "\n",
    "processor = AutoProcessor.from_pretrained(model_id)\n",
    "\n",
    "pipe = pipeline(\n",
    "    \"automatic-speech-recognition\",\n",
    "    model=model,\n",
    "    tokenizer=processor.tokenizer,\n",
    "    feature_extractor=processor.feature_extractor,\n",
    "    max_new_tokens=128,\n",
    "    chunk_length_s=30,\n",
    "    batch_size=16,\n",
    "    return_timestamps=True,\n",
    "    torch_dtype=torch_dtype,\n",
    "    device=device,\n",
    ")\n",
    "\n",
    "target_audio_data = pipe(\"./data/Eval/우주를줄게.mp3\", generate_kwargs={\"language\": \"korean\"})\n",
    "print(\"\\n\".join([audio_chunk['text'].strip() for audio_chunk in target_audio_data['chunks']]))"
   ]
  },
  {
   "cell_type": "code",
   "execution_count": null,
   "metadata": {},
   "outputs": [],
   "source": []
  }
 ],
 "metadata": {
  "kernelspec": {
   "display_name": "audio_chat",
   "language": "python",
   "name": "python3"
  },
  "language_info": {
   "codemirror_mode": {
    "name": "ipython",
    "version": 3
   },
   "file_extension": ".py",
   "mimetype": "text/x-python",
   "name": "python",
   "nbconvert_exporter": "python",
   "pygments_lexer": "ipython3",
   "version": "3.10.16"
  }
 },
 "nbformat": 4,
 "nbformat_minor": 2
}
