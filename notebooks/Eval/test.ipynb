{
 "cells": [
  {
   "cell_type": "markdown",
   "metadata": {
    "vscode": {
     "languageId": "plaintext"
    }
   },
   "source": [
    "### load korean dataset"
   ]
  },
  {
   "cell_type": "code",
   "execution_count": null,
   "metadata": {},
   "outputs": [
    {
     "name": "stderr",
     "output_type": "stream",
     "text": [
      "/home/mathai/miniforge3/envs/audio_chat/lib/python3.10/site-packages/tqdm/auto.py:21: TqdmWarning: IProgress not found. Please update jupyter and ipywidgets. See https://ipywidgets.readthedocs.io/en/stable/user_install.html\n",
      "  from .autonotebook import tqdm as notebook_tqdm\n"
     ]
    }
   ],
   "source": [
    "from datasets import load_dataset, Dataset\n",
    "from datasets import Audio\n",
    "from evaluate import load\n",
    "from transformers import AutoProcessor, AutoModelForSpeechSeq2Seq, pipeline\n",
    "import torch\n",
    "from jiwer import compute_measures\n",
    "import pandas as pd\n",
    "\n",
    "Dataset.cleanup_cache_files\n",
    "dataset = load_dataset(\"mozilla-foundation/common_voice_17_0\", \"ko\", split=\"train\", streaming=True)\n",
    "seed = 42  # 원하는 seed 값\n",
    "test_datasets = dataset.shuffle(seed=seed).take(100)"
   ]
  },
  {
   "cell_type": "code",
   "execution_count": 2,
   "metadata": {},
   "outputs": [],
   "source": [
    "wer_metric = load(\"wer\")\n",
    "def Eval(reference, prediction):\n",
    "    wer = wer_metric.compute(references=[reference], predictions=[prediction])\n",
    "    return wer"
   ]
  },
  {
   "cell_type": "code",
   "execution_count": 3,
   "metadata": {},
   "outputs": [],
   "source": [
    "def replace_sentence(reference):\n",
    "    reference = reference.replace(\"'\",\"\").replace('\"',\"\")\n",
    "    reference = reference.strip()\n",
    "    return reference"
   ]
  },
  {
   "cell_type": "code",
   "execution_count": 4,
   "metadata": {},
   "outputs": [
    {
     "name": "stderr",
     "output_type": "stream",
     "text": [
      "Device set to use cuda:0\n"
     ]
    }
   ],
   "source": [
    "device = \"cuda:0\" if torch.cuda.is_available() else \"mps\" if torch.backends.mps.is_available() else \"cpu\"\n",
    "torch_dtype = torch.float16 if torch.cuda.is_available() else torch.float32\n",
    "\n",
    "model_id = \"openai/whisper-large-v3\"\n",
    "model = AutoModelForSpeechSeq2Seq.from_pretrained(\n",
    "    model_id, torch_dtype=torch_dtype, low_cpu_mem_usage=True, use_safetensors=True\n",
    ")\n",
    "\n",
    "processor = AutoProcessor.from_pretrained(model_id)\n",
    "model.to(device)\n",
    "\n",
    "pipe = pipeline(\n",
    "    \"automatic-speech-recognition\",\n",
    "    model=model,\n",
    "    tokenizer=processor.tokenizer,\n",
    "    feature_extractor=processor.feature_extractor,\n",
    "    torch_dtype=torch_dtype,\n",
    "    device=device,\n",
    ")"
   ]
  },
  {
   "cell_type": "code",
   "execution_count": 5,
   "metadata": {},
   "outputs": [
    {
     "name": "stderr",
     "output_type": "stream",
     "text": [
      "Reading metadata...: 0it [00:00, ?it/s]"
     ]
    },
    {
     "name": "stderr",
     "output_type": "stream",
     "text": [
      "Reading metadata...: 376it [00:00, 1987.10it/s]\n"
     ]
    },
    {
     "name": "stdout",
     "output_type": "stream",
     "text": [
      "{'client_id': 'c6d812c8e94ecbb24fae83f2cd97e626f074b18a28f27bfdbdcd9038e80ef241e5fa751e85dd1ef11043d7966ea9deb57ff69e5398b4a84d3dbfe01b80c60684', 'path': 'ko_train_0/common_voice_ko_39744859.mp3', 'audio': {'path': 'ko_train_0/common_voice_ko_39744859.mp3', 'array': array([-4.08252167e-13, -3.11643480e-12, -1.19700678e-12, ...,\n",
      "        8.09599365e-08, -5.31813565e-07, -3.35610241e-07]), 'sampling_rate': 48000}, 'sentence': '\"쇰을 잡아채지 그냥 둬, 이 바보야!\"', 'up_votes': 4, 'down_votes': 0, 'age': 'twenties', 'gender': 'male_masculine', 'accent': '서울', 'locale': 'ko', 'segment': '', 'variant': ''}\n"
     ]
    }
   ],
   "source": [
    "for i in test_datasets:\n",
    "    print(i)\n",
    "    break"
   ]
  },
  {
   "cell_type": "code",
   "execution_count": 6,
   "metadata": {},
   "outputs": [],
   "source": [
    "import os"
   ]
  },
  {
   "cell_type": "code",
   "execution_count": 10,
   "metadata": {},
   "outputs": [
    {
     "name": "stderr",
     "output_type": "stream",
     "text": [
      "Reading metadata...: 376it [00:00, 1046.67it/s]\n",
      "/home/mathai/miniforge3/envs/audio_chat/lib/python3.10/site-packages/transformers/models/whisper/generation_whisper.py:512: FutureWarning: The input name `inputs` is deprecated. Please make sure to use `input_features` instead.\n",
      "  warnings.warn(\n"
     ]
    }
   ],
   "source": [
    "Eval_list = []\n",
    "\n",
    "n = 1\n",
    "for test_dataset in test_datasets:\n",
    "    if test_dataset['down_votes'] == 0:\n",
    "        audio_info = test_dataset['audio']\n",
    "        language = \"korean\"\n",
    "        file_path = audio_info['path']\n",
    "        file_name = os.path.basename(file_path)\n",
    "        reference = replace_sentence(test_dataset['sentence'])\n",
    "        generate = pipe(audio_info, generate_kwargs={\"language\": \"korean\"})\n",
    "        prediction = generate['text'].strip()\n",
    "        measures = compute_measures(reference, prediction)\n",
    "        substitutions = measures['substitutions']\n",
    "        insertions = measures['insertions']\n",
    "        deletions = measures['deletions']\n",
    "        total_words = len(reference.split())\n",
    "        wer = Eval(reference, prediction)\n",
    "        Eval_list.append({\n",
    "            'index': n,\n",
    "            'language': language,\n",
    "            'file_path': file_path,\n",
    "            'file_name': file_name,\n",
    "            'reference': reference,\n",
    "            'prediction': prediction,\n",
    "            'S' : substitutions,\n",
    "            'I' : insertions,\n",
    "            'D' : deletions,\n",
    "            'N' : total_words,\n",
    "            'WER' : wer,\n",
    "        })\n",
    "        n += 1\n",
    "        torch.cuda.empty_cache()\n",
    "    if n == 31:\n",
    "        break\n",
    "\n",
    "df = pd.DataFrame(Eval_list)\n",
    "df.to_csv(\"Eval/Korean_Eval.csv\", encoding=\"utf-8-sig\", index=False)\n",
    "averages = df[\"wer\"].mean()\n",
    "print(f\"WER : {averages}\")"
   ]
  },
  {
   "cell_type": "code",
   "execution_count": null,
   "metadata": {},
   "outputs": [],
   "source": []
  }
 ],
 "metadata": {
  "kernelspec": {
   "display_name": "audio_chat",
   "language": "python",
   "name": "python3"
  },
  "language_info": {
   "codemirror_mode": {
    "name": "ipython",
    "version": 3
   },
   "file_extension": ".py",
   "mimetype": "text/x-python",
   "name": "python",
   "nbconvert_exporter": "python",
   "pygments_lexer": "ipython3",
   "version": "3.10.16"
  }
 },
 "nbformat": 4,
 "nbformat_minor": 2
}
