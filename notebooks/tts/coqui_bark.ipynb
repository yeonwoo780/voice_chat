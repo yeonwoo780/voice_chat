{
 "cells": [
  {
   "cell_type": "code",
   "execution_count": 1,
   "metadata": {},
   "outputs": [
    {
     "data": {
      "text/plain": [
       "'/home/mathai/voice_chat'"
      ]
     },
     "execution_count": 1,
     "metadata": {},
     "output_type": "execute_result"
    }
   ],
   "source": [
    "import os\n",
    "os.chdir(\"../../\")\n",
    "os.getcwd()"
   ]
  },
  {
   "cell_type": "code",
   "execution_count": null,
   "metadata": {},
   "outputs": [],
   "source": [
    "if not os.path.exists(\"model/bark\"):\n",
    "    model_id = \"suno/bark\"\n",
    "    download_dir = \"model/bark\"\n",
    "    !huggingface-cli download {model_id} --local-dir {download_dir}\n",
    "else:\n",
    "    print(\"model download local already\")"
   ]
  },
  {
   "cell_type": "code",
   "execution_count": 2,
   "metadata": {},
   "outputs": [
    {
     "name": "stderr",
     "output_type": "stream",
     "text": [
      "/home/mathai/miniforge3/envs/audio_chat/lib/python3.10/site-packages/tqdm/auto.py:21: TqdmWarning: IProgress not found. Please update jupyter and ipywidgets. See https://ipywidgets.readthedocs.io/en/stable/user_install.html\n",
      "  from .autonotebook import tqdm as notebook_tqdm\n",
      "/home/mathai/miniforge3/envs/audio_chat/lib/python3.10/site-packages/torch/nn/utils/weight_norm.py:143: FutureWarning: `torch.nn.utils.weight_norm` is deprecated in favor of `torch.nn.utils.parametrizations.weight_norm`.\n",
      "  WeightNorm.apply(module, name, dim)\n"
     ]
    },
    {
     "name": "stdout",
     "output_type": "stream",
     "text": [
      "model load\n"
     ]
    }
   ],
   "source": [
    "from TTS.tts.configs.bark_config import BarkConfig\n",
    "from TTS.tts.models.bark import Bark\n",
    "\n",
    "config = BarkConfig()\n",
    "model = Bark.init_from_config(config)\n",
    "model.load_checkpoint(config, checkpoint_dir=\"model/bark\", eval=True)\n",
    "model.to(\"cuda\")\n",
    "print(\"model load\")"
   ]
  },
  {
   "cell_type": "code",
   "execution_count": 4,
   "metadata": {},
   "outputs": [
    {
     "name": "stderr",
     "output_type": "stream",
     "text": [
      "100%|██████████| 100/100 [00:06<00:00, 15.50it/s]\n",
      "100%|██████████| 28/28 [00:18<00:00,  1.49it/s]\n"
     ]
    }
   ],
   "source": [
    "text = \"안녕하세요, 이 모델은 tts를 test하기 위한 모델 입니다.\"\n",
    "output_dict = model.synthesize(text, config, speaker_id=\"random\", voice_dirs=None)"
   ]
  },
  {
   "cell_type": "code",
   "execution_count": null,
   "metadata": {},
   "outputs": [],
   "source": []
  }
 ],
 "metadata": {
  "kernelspec": {
   "display_name": "audio_chat",
   "language": "python",
   "name": "python3"
  },
  "language_info": {
   "codemirror_mode": {
    "name": "ipython",
    "version": 3
   },
   "file_extension": ".py",
   "mimetype": "text/x-python",
   "name": "python",
   "nbconvert_exporter": "python",
   "pygments_lexer": "ipython3",
   "version": "3.10.16"
  }
 },
 "nbformat": 4,
 "nbformat_minor": 2
}
